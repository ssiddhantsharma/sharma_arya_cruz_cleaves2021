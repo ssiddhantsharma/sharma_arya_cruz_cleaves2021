{
 "cells": [
  {
   "cell_type": "code",
   "execution_count": 31,
   "metadata": {},
   "outputs": [],
   "source": [
    "import pandas as pd\n",
    "import matplotlib.pyplot as plt\n",
    "import numpy as np\n",
    "from rdkit.Chem import MolFromSmiles\n",
    "from rdkit.Chem.Descriptors import ExactMolWt"
   ]
  },
  {
   "cell_type": "code",
   "execution_count": 32,
   "metadata": {},
   "outputs": [
    {
     "name": "stdout",
     "output_type": "stream",
     "text": [
      "Index(['Peak Number', 'Mass', 'Rel. Abundance', 'RP', 'Kendrick Mass',\n",
      "       'Nom. Mass', 'Odd/Even', 'Nom. Z', 'KMD', 'Series Fit', 'DBE', 'Group',\n",
      "       'Unnamed: 12', 'Molecular Formula', 'Carbon', 'C count', 'Hydrogen',\n",
      "       'H count', 'Nitrogen', 'N count', 'Oxygen', 'O Count', 'Sulphur',\n",
      "       'S count', 'Carbon-13', 'C13 count', 'Unnamed: 17', 'Unnamed: 27',\n",
      "       'Unnamed: 28'],\n",
      "      dtype='object')\n"
     ]
    }
   ],
   "source": [
    "df = pd.read_csv(\"39_Formose reaction_MeOH.csv\")#glucose_dry_impcols.csv\n",
    "print(df.columns)"
   ]
  },
  {
   "cell_type": "code",
   "execution_count": 33,
   "metadata": {
    "scrolled": true
   },
   "outputs": [
    {
     "data": {
      "text/html": [
       "<div>\n",
       "<style scoped>\n",
       "    .dataframe tbody tr th:only-of-type {\n",
       "        vertical-align: middle;\n",
       "    }\n",
       "\n",
       "    .dataframe tbody tr th {\n",
       "        vertical-align: top;\n",
       "    }\n",
       "\n",
       "    .dataframe thead th {\n",
       "        text-align: right;\n",
       "    }\n",
       "</style>\n",
       "<table border=\"1\" class=\"dataframe\">\n",
       "  <thead>\n",
       "    <tr style=\"text-align: right;\">\n",
       "      <th></th>\n",
       "      <th>Peak Number</th>\n",
       "      <th>Mass</th>\n",
       "      <th>Rel. Abundance</th>\n",
       "      <th>RP</th>\n",
       "      <th>Kendrick Mass</th>\n",
       "      <th>Nom. Mass</th>\n",
       "      <th>Odd/Even</th>\n",
       "      <th>Nom. Z</th>\n",
       "      <th>KMD</th>\n",
       "      <th>Series Fit</th>\n",
       "      <th>...</th>\n",
       "      <th>N count</th>\n",
       "      <th>Oxygen</th>\n",
       "      <th>O Count</th>\n",
       "      <th>Sulphur</th>\n",
       "      <th>S count</th>\n",
       "      <th>Carbon-13</th>\n",
       "      <th>C13 count</th>\n",
       "      <th>Unnamed: 17</th>\n",
       "      <th>Unnamed: 27</th>\n",
       "      <th>Unnamed: 28</th>\n",
       "    </tr>\n",
       "  </thead>\n",
       "  <tbody>\n",
       "    <tr>\n",
       "      <th>0</th>\n",
       "      <td>1</td>\n",
       "      <td>514.284397</td>\n",
       "      <td>68.8455</td>\n",
       "      <td>823974.98</td>\n",
       "      <td>513.7102</td>\n",
       "      <td>514.0</td>\n",
       "      <td>1.0</td>\n",
       "      <td>-4.0</td>\n",
       "      <td>290.0</td>\n",
       "      <td>0.0</td>\n",
       "      <td>...</td>\n",
       "      <td>1.0</td>\n",
       "      <td>O</td>\n",
       "      <td>7.0</td>\n",
       "      <td>S</td>\n",
       "      <td>1.0</td>\n",
       "      <td></td>\n",
       "      <td></td>\n",
       "      <td></td>\n",
       "      <td></td>\n",
       "      <td></td>\n",
       "    </tr>\n",
       "    <tr>\n",
       "      <th>1</th>\n",
       "      <td>2</td>\n",
       "      <td>276.059461</td>\n",
       "      <td>0.5320</td>\n",
       "      <td>1401642.92</td>\n",
       "      <td>275.7512</td>\n",
       "      <td>276.0</td>\n",
       "      <td>1.0</td>\n",
       "      <td>-4.0</td>\n",
       "      <td>249.0</td>\n",
       "      <td>1.0</td>\n",
       "      <td>...</td>\n",
       "      <td></td>\n",
       "      <td>O</td>\n",
       "      <td>6.0</td>\n",
       "      <td></td>\n",
       "      <td></td>\n",
       "      <td>13C</td>\n",
       "      <td>1.0</td>\n",
       "      <td></td>\n",
       "      <td></td>\n",
       "      <td></td>\n",
       "    </tr>\n",
       "    <tr>\n",
       "      <th>2</th>\n",
       "      <td>3</td>\n",
       "      <td>290.075110</td>\n",
       "      <td>2.6118</td>\n",
       "      <td>1349914.31</td>\n",
       "      <td>289.7512</td>\n",
       "      <td>290.0</td>\n",
       "      <td>1.0</td>\n",
       "      <td>-4.0</td>\n",
       "      <td>249.0</td>\n",
       "      <td>1.0</td>\n",
       "      <td>...</td>\n",
       "      <td></td>\n",
       "      <td>O</td>\n",
       "      <td>6.0</td>\n",
       "      <td></td>\n",
       "      <td></td>\n",
       "      <td>13C</td>\n",
       "      <td>1.0</td>\n",
       "      <td></td>\n",
       "      <td></td>\n",
       "      <td></td>\n",
       "    </tr>\n",
       "    <tr>\n",
       "      <th>3</th>\n",
       "      <td>4</td>\n",
       "      <td>304.090759</td>\n",
       "      <td>6.3988</td>\n",
       "      <td>1268469.88</td>\n",
       "      <td>303.7512</td>\n",
       "      <td>304.0</td>\n",
       "      <td>1.0</td>\n",
       "      <td>-4.0</td>\n",
       "      <td>249.0</td>\n",
       "      <td>1.0</td>\n",
       "      <td>...</td>\n",
       "      <td></td>\n",
       "      <td>O</td>\n",
       "      <td>6.0</td>\n",
       "      <td></td>\n",
       "      <td></td>\n",
       "      <td>13C</td>\n",
       "      <td>1.0</td>\n",
       "      <td></td>\n",
       "      <td></td>\n",
       "      <td></td>\n",
       "    </tr>\n",
       "    <tr>\n",
       "      <th>4</th>\n",
       "      <td>5</td>\n",
       "      <td>318.106404</td>\n",
       "      <td>9.5062</td>\n",
       "      <td>1208069.95</td>\n",
       "      <td>317.7512</td>\n",
       "      <td>318.0</td>\n",
       "      <td>1.0</td>\n",
       "      <td>-4.0</td>\n",
       "      <td>249.0</td>\n",
       "      <td>1.0</td>\n",
       "      <td>...</td>\n",
       "      <td></td>\n",
       "      <td>O</td>\n",
       "      <td>6.0</td>\n",
       "      <td></td>\n",
       "      <td></td>\n",
       "      <td>13C</td>\n",
       "      <td>1.0</td>\n",
       "      <td></td>\n",
       "      <td></td>\n",
       "      <td></td>\n",
       "    </tr>\n",
       "  </tbody>\n",
       "</table>\n",
       "<p>5 rows × 29 columns</p>\n",
       "</div>"
      ],
      "text/plain": [
       "  Peak Number        Mass  Rel. Abundance          RP  Kendrick Mass  \\\n",
       "0           1  514.284397         68.8455   823974.98       513.7102   \n",
       "1           2  276.059461          0.5320  1401642.92       275.7512   \n",
       "2           3  290.075110          2.6118  1349914.31       289.7512   \n",
       "3           4  304.090759          6.3988  1268469.88       303.7512   \n",
       "4           5  318.106404          9.5062  1208069.95       317.7512   \n",
       "\n",
       "   Nom. Mass  Odd/Even  Nom. Z    KMD  Series Fit  ...  N count Oxygen  \\\n",
       "0      514.0       1.0    -4.0  290.0         0.0  ...      1.0      O   \n",
       "1      276.0       1.0    -4.0  249.0         1.0  ...               O   \n",
       "2      290.0       1.0    -4.0  249.0         1.0  ...               O   \n",
       "3      304.0       1.0    -4.0  249.0         1.0  ...               O   \n",
       "4      318.0       1.0    -4.0  249.0         1.0  ...               O   \n",
       "\n",
       "  O Count Sulphur S count Carbon-13 C13 count Unnamed: 17 Unnamed: 27  \\\n",
       "0     7.0       S     1.0                                               \n",
       "1     6.0                       13C       1.0                           \n",
       "2     6.0                       13C       1.0                           \n",
       "3     6.0                       13C       1.0                           \n",
       "4     6.0                       13C       1.0                           \n",
       "\n",
       "  Unnamed: 28  \n",
       "0              \n",
       "1              \n",
       "2              \n",
       "3              \n",
       "4              \n",
       "\n",
       "[5 rows x 29 columns]"
      ]
     },
     "execution_count": 33,
     "metadata": {},
     "output_type": "execute_result"
    }
   ],
   "source": [
    "# first get rid of empty lines in the mass list by replacing with ''\n",
    "df.replace('', np.nan, inplace=True)\n",
    "# also, some 'Mass' values are not numbers\n",
    "df.dropna(subset=['Mass'], inplace=True)\n",
    "# now replace NaNs with '' to avoid weird errors\n",
    "df.fillna('', inplace=True)\n",
    "df.shape\n",
    "df.head()\n"
   ]
  },
  {
   "cell_type": "code",
   "execution_count": 34,
   "metadata": {},
   "outputs": [
    {
     "name": "stdout",
     "output_type": "stream",
     "text": [
      "108 items in [192.038356, 206.054001, 210.048912, 180.038364, 194.054006, 208.069649, 178.059103, 192.074743, 212.06456, 176.043447, 190.059092, 204.074733, 182.054013, 196.069657, 210.085297, 216.074728, 180.074752, 208.106032, 216.059472, 184.069662, 198.085305, 207.051041, 177.040493, 191.05614, 177.019367, 191.035002, 205.050645, 207.029909, 195.029916, 209.045558, 179.035012, 193.050656, 207.066301, 203.034996, 179.056142, 177.055749, 191.071392, 205.087034, 205.035389, 197.066691, 211.08234, 213.040466, 195.051046, 209.06669, 197.045563, 211.061206, 175.0401, 189.055741, 203.071382, 181.05066, 195.066303, 209.081945, 181.071789, 201.040476, 215.056119, 165.055758, 179.071398, 207.102679, 189.040483, 203.056125, 185.045571, 199.061213, 213.076857, 187.040094, 201.05573, 215.071375, 193.087038, 213.055727, 183.066309, 197.081949, 211.097592, 205.071774, 173.04558, 201.07686, 215.092504, 181.087045, 209.118329, 195.102686, 193.071781, 161.045586, 189.076869, 203.092511, 175.076485, 189.092126, 173.06083, 187.076477, 201.092117, 215.107759, 203.107765, 177.092132, 205.123411, 175.06123, 171.066314, 185.081956, 199.097599, 187.06122, 185.060829, 199.07647, 213.092112, 191.107771, 200.971764, 214.98741, 213.113239, 183.102694, 197.118333, 179.107776, 173.081967, 187.097609]\n"
     ]
    }
   ],
   "source": [
    "# make a list of exact mass and relative abundance.\n",
    "mass_list = []\n",
    "rel_abundance = []\n",
    "for i in range(len(df)):\n",
    "    # allow entire spectrum for this one\n",
    "    if float(df['Mass'].iloc[i]) < 217 and \"No Hit\" not in df['Molecular Formula'].iloc[i]:\n",
    "        mass_list.append(float(df['Mass'].iloc[i]))\n",
    "        rel_abundance.append(float(df['Rel. Abundance'].iloc[i]))\n",
    "# now, \"renormalize\" the relative abundance.\n",
    "highest = max(rel_abundance)\n",
    "norm_factor = 100.0/highest\n",
    "normalized_abun = []\n",
    "for ab in rel_abundance:\n",
    "    normalized_abun.append(norm_factor*ab)\n",
    "print(f'{len(mass_list)} items in {mass_list}')\n"
   ]
  },
  {
   "cell_type": "code",
   "execution_count": 35,
   "metadata": {},
   "outputs": [],
   "source": [
    "# formose MOD output\n",
    "# ../main/glucose/glucose_degradation_output_10mar.txt\n",
    "formose_mod = pd.read_csv('formose_output.txt', sep='\\t', names=['Generation', 'SMILES'])\n",
    "sim_masses = []\n",
    "for i in range(len(formose_mod)):\n",
    "    row = formose_mod.iloc[i]\n",
    "    mol = MolFromSmiles(row['SMILES'])\n",
    "    mol_wt = ExactMolWt(mol)\n",
    "    sim_masses.append(mol_wt)\n",
    "formose_mod['Mol Wt'] = sim_masses"
   ]
  },
  {
   "cell_type": "code",
   "execution_count": 36,
   "metadata": {
    "scrolled": true
   },
   "outputs": [
    {
     "name": "stdout",
     "output_type": "stream",
     "text": [
      "Unique masses: 209\n",
      "Frequency of each mass [1, 1, 1, 1, 1, 1, 1, 1, 1, 1, 1, 1, 1, 2, 1, 3, 2, 2, 1, 3, 4, 3, 5, 4, 1, 1, 2, 1, 1, 2, 2, 5, 132, 17, 1, 13, 5, 4, 5, 1, 1, 1, 2, 5, 28, 2, 12, 49, 25, 26, 17, 5, 1, 4, 1, 7, 34, 2, 27, 63, 103, 46, 122, 17, 27, 51, 11, 9, 2, 1, 25, 38, 175, 59, 395, 47, 155, 374, 158, 113, 65, 15, 3, 8, 10, 8, 18, 325, 497, 581, 1093, 54, 734, 133, 122, 210, 37, 3, 2, 401, 3, 753, 2469, 647, 3084, 593, 1328, 1796, 888, 434, 234, 43, 7, 62, 15, 27, 3826, 369, 5430, 3655, 7484, 2469, 485, 3671, 504, 748, 98, 852, 4, 5, 3664, 521, 6905, 4450, 2134, 12499, 7380, 5804, 3820, 1498, 647, 128, 17, 308, 31, 137, 4404, 4041, 50, 1541, 30, 14, 2, 19, 2, 2, 113, 10, 6, 23, 31, 159, 262, 65, 1, 33, 291, 43, 4, 1, 33, 34, 41, 410, 484, 1248, 3, 457, 44, 113, 30, 479, 10, 6, 5, 16, 20, 130, 63, 371, 378, 582, 77, 37, 90, 5, 213, 27, 14, 2137, 257, 2, 36, 97, 1, 21, 31, 2, 2]\n"
     ]
    }
   ],
   "source": [
    "unique_sim_masses = list(set(sim_masses))\n",
    "unique_mass_freq = [sim_masses.count(mass) for mass in unique_sim_masses]\n",
    "highest_freq = max(unique_mass_freq)\n",
    "\n",
    "norm_freq = [100*(freq/highest_freq) for freq in unique_mass_freq]\n",
    "\n",
    "print('Unique masses:',len(unique_sim_masses))\n",
    "print('Frequency of each mass', unique_mass_freq)"
   ]
  },
  {
   "cell_type": "code",
   "execution_count": 37,
   "metadata": {
    "scrolled": true
   },
   "outputs": [
    {
     "name": "stdout",
     "output_type": "stream",
     "text": [
      "[192.038356, 206.054001, 210.048912, 180.038364, 194.054006, 208.069649, 178.059103, 192.074743, 212.06456, 176.043447]\n",
      "Update:\n",
      "[193.04563199999998, 207.061277, 211.056188, 181.04564, 195.06128199999998, 209.076925, 179.06637899999998, 193.082019, 213.071836, 177.05072299999998]\n"
     ]
    }
   ],
   "source": [
    "# NOTE: Since the data was collected in negative ESI mode, one must add for the mass of a proton.\n",
    "print(mass_list[:10])\n",
    "corrected_mass_list = [mass + 1.007276 for mass in tuple(mass_list)]\n",
    "print('Update:')\n",
    "print(corrected_mass_list[:10])"
   ]
  },
  {
   "cell_type": "code",
   "execution_count": 38,
   "metadata": {},
   "outputs": [
    {
     "name": "stdout",
     "output_type": "stream",
     "text": [
      "209\n"
     ]
    }
   ],
   "source": [
    "print(len(unique_sim_masses))"
   ]
  },
  {
   "cell_type": "code",
   "execution_count": 72,
   "metadata": {},
   "outputs": [],
   "source": [
    "# Set font directory\n",
    "font = {'family': 'Times New Roman',\n",
    "        'color':  'black',\n",
    "        'weight': 'bold',\n",
    "        'size':  14,\n",
    "        }"
   ]
  },
  {
   "cell_type": "code",
   "execution_count": 76,
   "metadata": {
    "scrolled": true
   },
   "outputs": [
    {
     "data": {
      "image/png": "[encoded data removed]",
      "text/plain": [
       "<Figure size 288x576 with 2 Axes>"
      ]
     },
     "metadata": {
      "needs_background": "light"
     },
     "output_type": "display_data"
    }
   ],
   "source": [
    "# for some flexibility, create a container for the figure\n",
    "fig, axes = plt.subplots(nrows=2, ncols=1, figsize=(4, 8), sharex=True) # create a figure object\n",
    "#ax = fig.add_subplot(111) # create an axis object\n",
    "\n",
    "# first, draw the experimental spectrum\n",
    "axes[0].vlines(x=corrected_mass_list, ymin=0, ymax=normalized_abun, color='cornflowerblue')\n",
    "\n",
    "# now the CNRN\n",
    "axes[1].vlines(x=unique_sim_masses, ymin=0, ymax=norm_freq, color='deeppink')\n",
    "\n",
    "#plt.bar(mass_list, rel_abundance, width=0.5)\n",
    "\n",
    "axes[0].set_yscale('log')\n",
    "axes[1].set_yscale('log')\n",
    "axes[0].set_ylim([0.875, 125])\n",
    "axes[1].set_ylim([0.875, 125])\n",
    "axes[0].set_xlim([155, 205])\n",
    "axes[1].set_xlim([155, 205])\n",
    "\n",
    "plt.gca().invert_yaxis()\n",
    "\n",
    "axes[0].tick_params(axis=\"y\", labelsize=14)\n",
    "axes[0].tick_params(axis=\"x\", labelsize=14)\n",
    "axes[1].tick_params(axis=\"y\", labelsize=14)\n",
    "axes[1].tick_params(axis=\"x\", labelsize=14)\n",
    "\n",
    "axes[1].set_xlabel('Exact Mass',fontdict = font)\n",
    "axes[0].set_ylabel('Relative Signal Intensity',fontdict = font)\n",
    "axes[1].set_ylabel('Normalized Frequency',fontdict = font)\n",
    "\n",
    "# turn on minor ticks\n",
    "\n",
    "axes[0].minorticks_on()\n",
    "axes[1].minorticks_on()\n",
    "axes[0].text(199, 70, 'A', fontsize=35)\n",
    "axes[1].text(199, 100, 'B', fontsize=35)\n",
    "\n",
    "#plt.ylabel('Normalized Abundance')\n",
    "plt.tight_layout()\n",
    "plt.subplots_adjust(wspace=0, hspace=0)\n",
    "plt.savefig('formose_mirror_plot.png', dpi=500, transparent=True)\n",
    "plt.show()"
   ]
  },
  {
   "cell_type": "code",
   "execution_count": null,
   "metadata": {},
   "outputs": [],
   "source": []
  },
  {
   "cell_type": "code",
   "execution_count": null,
   "metadata": {},
   "outputs": [],
   "source": []
  },
  {
   "cell_type": "code",
   "execution_count": null,
   "metadata": {},
   "outputs": [],
   "source": []
  }
 ],
 "metadata": {
  "kernelspec": {
   "display_name": "Python 3 (ipykernel)",
   "language": "python",
   "name": "python3"
  },
  "language_info": {
   "codemirror_mode": {
    "name": "ipython",
    "version": 3
   },
   "file_extension": ".py",
   "mimetype": "text/x-python",
   "name": "python",
   "nbconvert_exporter": "python",
   "pygments_lexer": "ipython3",
   "version": "3.9.2"
  }
 },
 "nbformat": 4,
 "nbformat_minor": 4
}
