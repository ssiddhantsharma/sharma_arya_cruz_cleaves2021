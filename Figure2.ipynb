{
 "cells": [
  {
   "cell_type": "code",
   "execution_count": 2,
   "metadata": {},
   "outputs": [],
   "source": [
    "import pandas as pd\n",
    "import matplotlib.pyplot as plt\n",
    "import numpy as np\n",
    "from rdkit.Chem import MolFromSmiles\n",
    "from rdkit.Chem.Descriptors import ExactMolWt"
   ]
  },
  {
   "cell_type": "code",
   "execution_count": 3,
   "metadata": {},
   "outputs": [
    {
     "name": "stdout",
     "output_type": "stream",
     "text": [
      "Index(['Mass', 'Rel. Abundance', 'Molecular Formula', 'Carbon', 'C count',\n",
      "       'Hydrogen', 'H count', 'Nitrogen', 'N count', 'Oxygen', 'O Count',\n",
      "       'Sulphur', 'S count', 'Carbon-13', 'C13 count', 'Sulphur-34',\n",
      "       'S34 Count', 'Unnamed: 17'],\n",
      "      dtype='object')\n"
     ]
    }
   ],
   "source": [
    "df = pd.read_csv(\"39_Formose reaction_MeOH.csv\")#glucose_dry_impcols.csv\n",
    "print(df.columns)"
   ]
  },
  {
   "cell_type": "code",
   "execution_count": 4,
   "metadata": {
    "scrolled": true
   },
   "outputs": [
    {
     "data": {
      "text/html": [
       "<div>\n",
       "<style scoped>\n",
       "    .dataframe tbody tr th:only-of-type {\n",
       "        vertical-align: middle;\n",
       "    }\n",
       "\n",
       "    .dataframe tbody tr th {\n",
       "        vertical-align: top;\n",
       "    }\n",
       "\n",
       "    .dataframe thead th {\n",
       "        text-align: right;\n",
       "    }\n",
       "</style>\n",
       "<table border=\"1\" class=\"dataframe\">\n",
       "  <thead>\n",
       "    <tr style=\"text-align: right;\">\n",
       "      <th></th>\n",
       "      <th>Mass</th>\n",
       "      <th>Rel. Abundance</th>\n",
       "      <th>Molecular Formula</th>\n",
       "      <th>Carbon</th>\n",
       "      <th>C count</th>\n",
       "      <th>Hydrogen</th>\n",
       "      <th>H count</th>\n",
       "      <th>Nitrogen</th>\n",
       "      <th>N count</th>\n",
       "      <th>Oxygen</th>\n",
       "      <th>O Count</th>\n",
       "      <th>Sulphur</th>\n",
       "      <th>S count</th>\n",
       "      <th>Carbon-13</th>\n",
       "      <th>C13 count</th>\n",
       "      <th>Sulphur-34</th>\n",
       "      <th>S34 Count</th>\n",
       "      <th>Unnamed: 17</th>\n",
       "    </tr>\n",
       "  </thead>\n",
       "  <tbody>\n",
       "    <tr>\n",
       "      <th>0</th>\n",
       "      <td>514.28440</td>\n",
       "      <td>68.8455</td>\n",
       "      <td></td>\n",
       "      <td>C</td>\n",
       "      <td>26.0</td>\n",
       "      <td>H</td>\n",
       "      <td>44.0</td>\n",
       "      <td>N</td>\n",
       "      <td>1.0</td>\n",
       "      <td>O</td>\n",
       "      <td>7.0</td>\n",
       "      <td>S</td>\n",
       "      <td>1.0</td>\n",
       "      <td></td>\n",
       "      <td></td>\n",
       "      <td></td>\n",
       "      <td></td>\n",
       "      <td></td>\n",
       "    </tr>\n",
       "    <tr>\n",
       "      <th>1</th>\n",
       "      <td>276.05946</td>\n",
       "      <td>0.5320</td>\n",
       "      <td>*</td>\n",
       "      <td>C</td>\n",
       "      <td>13.0</td>\n",
       "      <td>H</td>\n",
       "      <td>11.0</td>\n",
       "      <td></td>\n",
       "      <td></td>\n",
       "      <td>O</td>\n",
       "      <td>6.0</td>\n",
       "      <td></td>\n",
       "      <td></td>\n",
       "      <td>13C</td>\n",
       "      <td>1.0</td>\n",
       "      <td></td>\n",
       "      <td></td>\n",
       "      <td></td>\n",
       "    </tr>\n",
       "    <tr>\n",
       "      <th>2</th>\n",
       "      <td>290.07511</td>\n",
       "      <td>2.6118</td>\n",
       "      <td>*</td>\n",
       "      <td>C</td>\n",
       "      <td>14.0</td>\n",
       "      <td>H</td>\n",
       "      <td>13.0</td>\n",
       "      <td></td>\n",
       "      <td></td>\n",
       "      <td>O</td>\n",
       "      <td>6.0</td>\n",
       "      <td></td>\n",
       "      <td></td>\n",
       "      <td>13C</td>\n",
       "      <td>1.0</td>\n",
       "      <td></td>\n",
       "      <td></td>\n",
       "      <td></td>\n",
       "    </tr>\n",
       "    <tr>\n",
       "      <th>3</th>\n",
       "      <td>304.09076</td>\n",
       "      <td>6.3988</td>\n",
       "      <td>*</td>\n",
       "      <td>C</td>\n",
       "      <td>15.0</td>\n",
       "      <td>H</td>\n",
       "      <td>15.0</td>\n",
       "      <td></td>\n",
       "      <td></td>\n",
       "      <td>O</td>\n",
       "      <td>6.0</td>\n",
       "      <td></td>\n",
       "      <td></td>\n",
       "      <td>13C</td>\n",
       "      <td>1.0</td>\n",
       "      <td></td>\n",
       "      <td></td>\n",
       "      <td></td>\n",
       "    </tr>\n",
       "    <tr>\n",
       "      <th>4</th>\n",
       "      <td>318.10640</td>\n",
       "      <td>9.5062</td>\n",
       "      <td>*</td>\n",
       "      <td>C</td>\n",
       "      <td>16.0</td>\n",
       "      <td>H</td>\n",
       "      <td>17.0</td>\n",
       "      <td></td>\n",
       "      <td></td>\n",
       "      <td>O</td>\n",
       "      <td>6.0</td>\n",
       "      <td></td>\n",
       "      <td></td>\n",
       "      <td>13C</td>\n",
       "      <td>1.0</td>\n",
       "      <td></td>\n",
       "      <td></td>\n",
       "      <td></td>\n",
       "    </tr>\n",
       "  </tbody>\n",
       "</table>\n",
       "</div>"
      ],
      "text/plain": [
       "        Mass  Rel. Abundance Molecular Formula Carbon C count Hydrogen  \\\n",
       "0  514.28440         68.8455                        C    26.0        H   \n",
       "1  276.05946          0.5320                 *      C    13.0        H   \n",
       "2  290.07511          2.6118                 *      C    14.0        H   \n",
       "3  304.09076          6.3988                 *      C    15.0        H   \n",
       "4  318.10640          9.5062                 *      C    16.0        H   \n",
       "\n",
       "  H count Nitrogen N count Oxygen O Count Sulphur S count Carbon-13 C13 count  \\\n",
       "0    44.0        N     1.0      O     7.0       S     1.0                       \n",
       "1    11.0                       O     6.0                       13C       1.0   \n",
       "2    13.0                       O     6.0                       13C       1.0   \n",
       "3    15.0                       O     6.0                       13C       1.0   \n",
       "4    17.0                       O     6.0                       13C       1.0   \n",
       "\n",
       "  Sulphur-34 S34 Count Unnamed: 17  \n",
       "0                                   \n",
       "1                                   \n",
       "2                                   \n",
       "3                                   \n",
       "4                                   "
      ]
     },
     "execution_count": 4,
     "metadata": {},
     "output_type": "execute_result"
    }
   ],
   "source": [
    "# first get rid of empty lines in the mass list by replacing with ''\n",
    "df.replace('', np.nan, inplace=True)\n",
    "# also, some 'Mass' values are not numbers\n",
    "df.dropna(subset=['Mass'], inplace=True)\n",
    "# now replace NaNs with '' to avoid weird errors\n",
    "df.fillna('', inplace=True)\n",
    "df.shape\n",
    "df.head()\n"
   ]
  },
  {
   "cell_type": "code",
   "execution_count": 5,
   "metadata": {},
   "outputs": [
    {
     "name": "stdout",
     "output_type": "stream",
     "text": [
      "108 items in [192.03836, 206.054, 210.04891, 180.03836, 194.05401, 208.06965, 178.0591, 192.07474, 212.06456, 176.04345, 190.05909, 204.07473, 182.05401, 196.06966, 210.0853, 216.07473, 180.07475, 208.10603, 216.05947, 184.06966, 198.08531, 207.05104, 177.04049, 191.05614, 177.01937, 191.035, 205.05065, 207.02991, 195.02992, 209.04556, 179.03501, 193.05066, 207.0663, 203.035, 179.05614, 177.05575, 191.07139, 205.08703, 205.03539, 197.06669, 211.08234, 213.04047, 195.05105, 209.06669, 197.04556, 211.06121, 175.0401, 189.05574, 203.07138, 181.05066, 195.0663, 209.08195, 181.07179, 201.04048, 215.05612, 165.05576, 179.0714, 207.10268, 189.04048, 203.05613, 185.04557, 199.06121, 213.07686, 187.04009, 201.05573, 215.07138, 193.08704, 213.05573, 183.06631, 197.08195, 211.09759, 205.07177, 173.04558, 201.07686, 215.0925, 181.08705, 209.11833, 195.10269, 193.07178, 161.04559, 189.07687, 203.09251, 175.07649, 189.09213, 173.06083, 187.07648, 201.09212, 215.10776, 203.10777, 177.09213, 205.12341, 175.06123, 171.06631, 185.08196, 199.0976, 187.06122, 185.06083, 199.07647, 213.09211, 191.10777, 200.97176, 214.98741, 213.11324, 183.10269, 197.11833, 179.10778, 173.08197, 187.09761]\n"
     ]
    }
   ],
   "source": [
    "# make a list of exact mass and relative abundance.\n",
    "mass_list = []\n",
    "rel_abundance = []\n",
    "for i in range(len(df)):\n",
    "    # allow entire spectrum for this one\n",
    "    if float(df['Mass'].iloc[i]) < 217 and \"No Hit\" not in df['Molecular Formula'].iloc[i]:\n",
    "        mass_list.append(float(df['Mass'].iloc[i]))\n",
    "        rel_abundance.append(float(df['Rel. Abundance'].iloc[i]))\n",
    "# now, \"renormalize\" the relative abundance.\n",
    "highest = max(rel_abundance)\n",
    "norm_factor = 100.0/highest\n",
    "normalized_abun = []\n",
    "for ab in rel_abundance:\n",
    "    normalized_abun.append(norm_factor*ab)\n",
    "print(f'{len(mass_list)} items in {mass_list}')\n"
   ]
  },
  {
   "cell_type": "code",
   "execution_count": 6,
   "metadata": {},
   "outputs": [],
   "source": [
    "# formose MOD output\n",
    "# ../main/glucose/glucose_degradation_output_10mar.txt\n",
    "formose_mod = pd.read_csv('../main/formose/formose_output.txt', sep='\\t', names=['Generation', 'SMILES'])\n",
    "sim_masses = []\n",
    "for i in range(len(formose_mod)):\n",
    "    row = formose_mod.iloc[i]\n",
    "    mol = MolFromSmiles(row['SMILES'])\n",
    "    mol_wt = ExactMolWt(mol)\n",
    "    sim_masses.append(mol_wt)\n",
    "formose_mod['Mol Wt'] = sim_masses"
   ]
  },
  {
   "cell_type": "code",
   "execution_count": 7,
   "metadata": {
    "scrolled": true
   },
   "outputs": [
    {
     "name": "stdout",
     "output_type": "stream",
     "text": [
      "Unique masses: 207\n",
      "Frequency of each mass [4, 4, 4, 1, 1, 4, 4, 4, 4, 1, 4, 2, 4, 12, 4, 2, 4, 3, 10, 12, 14, 13, 4, 5, 8, 1, 1, 2, 2, 20, 5, 62, 4, 37, 18, 20, 8, 4, 4, 1, 2, 5, 67, 2, 48, 106, 90, 35, 64, 17, 4, 13, 2, 7, 46, 2, 45, 75, 296, 67, 324, 54, 91, 144, 45, 18, 8, 4, 31, 38, 265, 68, 858, 82, 444, 712, 558, 155, 208, 49, 9, 26, 34, 162, 30, 400, 869, 791, 2490, 93, 1704, 356, 417, 524, 116, 9, 8, 555, 891, 14, 4078, 755, 4951, 970, 3207, 2880, 2684, 606, 672, 127, 16, 167, 51, 37, 4904, 412, 7689, 5622, 14500, 3193, 552, 7233, 1605, 1542, 290, 1934, 16, 14, 5047, 814, 11241, 5143, 3195, 19435, 11377, 10968, 9528, 2181, 1712, 368, 41, 722, 103, 211, 5280, 5855, 89, 2162, 30, 14, 2, 19, 2, 2, 132, 10, 6, 56, 31, 159, 314, 67, 1, 33, 321, 55, 4, 1, 42, 34, 41, 410, 628, 1569, 3, 457, 44, 113, 31, 768, 10, 7, 5, 45, 23, 130, 117, 371, 378, 936, 77, 37, 90, 246, 27, 14, 2448, 257, 2, 42, 121, 4, 21, 31, 2, 14, 3]\n"
     ]
    }
   ],
   "source": [
    "unique_sim_masses = list(set(sim_masses))\n",
    "unique_mass_freq = [sim_masses.count(mass) for mass in unique_sim_masses]\n",
    "highest_freq = max(unique_mass_freq)\n",
    "\n",
    "norm_freq = [100*(freq/highest_freq) for freq in unique_mass_freq]\n",
    "\n",
    "print('Unique masses:',len(unique_sim_masses))\n",
    "print('Frequency of each mass', unique_mass_freq)"
   ]
  },
  {
   "cell_type": "code",
   "execution_count": 8,
   "metadata": {
    "scrolled": true
   },
   "outputs": [
    {
     "name": "stdout",
     "output_type": "stream",
     "text": [
      "[192.03836, 206.054, 210.04891, 180.03836, 194.05401, 208.06965, 178.0591, 192.07474, 212.06456, 176.04345]\n",
      "Update:\n",
      "[193.045636, 207.061276, 211.056186, 181.045636, 195.061286, 209.076926, 179.066376, 193.08201599999998, 213.071836, 177.050726]\n"
     ]
    }
   ],
   "source": [
    "# NOTE: Since the data was collected in negative ESI mode, one must add for the mass of a proton.\n",
    "print(mass_list[:10])\n",
    "corrected_mass_list = [mass + 1.007276 for mass in tuple(mass_list)]\n",
    "print('Update:')\n",
    "print(corrected_mass_list[:10])"
   ]
  },
  {
   "cell_type": "code",
   "execution_count": 9,
   "metadata": {},
   "outputs": [
    {
     "name": "stdout",
     "output_type": "stream",
     "text": [
      "207\n"
     ]
    }
   ],
   "source": [
    "print(len(unique_sim_masses))"
   ]
  },
  {
   "cell_type": "code",
   "execution_count": 10,
   "metadata": {},
   "outputs": [],
   "source": [
    "from matplotlib import rc\n",
    "\n",
    "# Use LaTeX and CMU Serif font.\n",
    "rc('text', usetex=True)\n",
    "rc('font', **{'family': 'serif', 'serif': ['Computer Modern']})"
   ]
  },
  {
   "cell_type": "code",
   "execution_count": 14,
   "metadata": {},
   "outputs": [
    {
     "data": {
      "image/png": "[encoded data removed]",
      "text/plain": [
       "<Figure size 432x864 with 2 Axes>"
      ]
     },
     "metadata": {
      "needs_background": "light"
     },
     "output_type": "display_data"
    }
   ],
   "source": [
    "# for some flexibility, create a container for the figure\n",
    "fig, axes = plt.subplots(nrows=2, ncols=1, figsize=(6, 12), sharex=True) # create a figure object\n",
    "#ax = fig.add_subplot(111) # create an axis object\n",
    "\n",
    "# first, draw the experimental spectrum\n",
    "axes[0].vlines(x=corrected_mass_list, ymin=0, ymax=normalized_abun, color='cornflowerblue')\n",
    "\n",
    "# now the CNRN\n",
    "axes[1].vlines(x=unique_sim_masses, ymin=0, ymax=norm_freq, color='deeppink')\n",
    "\n",
    "#plt.bar(mass_list, rel_abundance, width=0.5)\n",
    "\n",
    "axes[0].set_yscale('log')\n",
    "axes[1].set_yscale('log')\n",
    "axes[0].set_ylim([0.875, 125])\n",
    "axes[1].set_ylim([0.875, 125])\n",
    "axes[0].set_xlim([155, 205])\n",
    "axes[1].set_xlim([155, 205])\n",
    "\n",
    "plt.gca().invert_yaxis()\n",
    "\n",
    "axes[0].tick_params(axis=\"y\", labelsize=14)\n",
    "axes[0].tick_params(axis=\"x\", labelsize=14)\n",
    "axes[1].tick_params(axis=\"y\", labelsize=14)\n",
    "axes[1].tick_params(axis=\"x\", labelsize=14)\n",
    "\n",
    "axes[1].set_xlabel('Exact Mass',fontsize=16)\n",
    "axes[0].set_ylabel('Relative Signal Intensity',fontsize=16)\n",
    "axes[1].set_ylabel('Normalized Frequency',fontsize=16)\n",
    "\n",
    "# turn on minor ticks\n",
    "\n",
    "axes[0].minorticks_on()\n",
    "axes[1].minorticks_on()\n",
    "axes[0].text(199, 70, 'A', fontsize=48)\n",
    "axes[1].text(199, 100, 'B', fontsize=48)\n",
    "\n",
    "#plt.ylabel('Normalized Abundance')\n",
    "plt.tight_layout()\n",
    "plt.subplots_adjust(wspace=0, hspace=0)\n",
    "plt.savefig('formose_mirror_plot.png', dpi=300, transparent=True)\n",
    "plt.show()"
   ]
  },
  {
   "cell_type": "code",
   "execution_count": null,
   "metadata": {},
   "outputs": [],
   "source": []
  },
  {
   "cell_type": "code",
   "execution_count": null,
   "metadata": {},
   "outputs": [],
   "source": []
  },
  {
   "cell_type": "code",
   "execution_count": null,
   "metadata": {},
   "outputs": [],
   "source": []
  }
 ],
 "metadata": {
  "kernelspec": {
   "display_name": "Python 3",
   "language": "python",
   "name": "python3"
  },
  "language_info": {
   "codemirror_mode": {
    "name": "ipython",
    "version": 3
   },
   "file_extension": ".py",
   "mimetype": "text/x-python",
   "name": "python",
   "nbconvert_exporter": "python",
   "pygments_lexer": "ipython3",
   "version": "3.8.5"
  }
 },
 "nbformat": 4,
 "nbformat_minor": 4
}
